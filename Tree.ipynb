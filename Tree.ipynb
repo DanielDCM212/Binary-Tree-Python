{
  "nbformat": 4,
  "nbformat_minor": 0,
  "metadata": {
    "colab": {
      "name": "Tree.ipynb",
      "provenance": [],
      "collapsed_sections": [],
      "authorship_tag": "ABX9TyOnrrKQO4cLr/ppKeHXW2EG",
      "include_colab_link": true
    },
    "kernelspec": {
      "name": "python3",
      "display_name": "Python 3"
    }
  },
  "cells": [
    {
      "cell_type": "markdown",
      "metadata": {
        "id": "view-in-github",
        "colab_type": "text"
      },
      "source": [
        "<a href=\"https://colab.research.google.com/github/DanielDCM212/Binary-Tree-Python/blob/master/Tree.ipynb\" target=\"_parent\"><img src=\"https://colab.research.google.com/assets/colab-badge.svg\" alt=\"Open In Colab\"/></a>"
      ]
    },
    {
      "cell_type": "code",
      "metadata": {
        "id": "ZuQyO396RED6",
        "colab_type": "code",
        "colab": {}
      },
      "source": [
        "import numpy as np"
      ],
      "execution_count": 0,
      "outputs": []
    },
    {
      "cell_type": "code",
      "metadata": {
        "id": "Y1cSD9oyTS7x",
        "colab_type": "code",
        "colab": {}
      },
      "source": [
        "class nodo:\n",
        "    \"\"\"\n",
        "    Clase Nodo\n",
        "    Guarda los datos que el nodo utilize\n",
        "    \"\"\"\n",
        "\n",
        "    def __init__(self,data,left = None,right = None, father=None):\n",
        "        self.father = father\n",
        "        self.data = data\n",
        "        self.left = left\n",
        "        self.right = right\n",
        "        \n",
        "    def __str__(self):\n",
        "        return \"%s\" %(self.data)\n",
        "\n"
      ],
      "execution_count": 0,
      "outputs": []
    },
    {
      "cell_type": "code",
      "metadata": {
        "id": "hsuh0wehTuNJ",
        "colab_type": "code",
        "colab": {}
      },
      "source": [
        "class aBinary:\n",
        "    def __init__(self):\n",
        "        self.root = None\n",
        "        \n",
        "    def AddNodo(self, Nodo):\n",
        "        if self.root == None:\n",
        "            self.root = Nodo\n",
        "        else:\n",
        "            aux = self.root\n",
        "            father = None\n",
        "            while aux != None:\n",
        "                padre = aux      \n",
        "                if int(Nodo.data) >= int(aux.data):\n",
        "                    aux = aux.right\n",
        "                else:\n",
        "                    aux = aux.left \n",
        "            \n",
        "            if int(Nodo.data) >= int(padre.data):\n",
        "                Nodo.father = padre\n",
        "                padre.right = Nodo\n",
        "            else:\n",
        "                Nodo.father = padre\n",
        "                padre.left = Nodo\n",
        "\n",
        "    def FindNodo(self, Find):\n",
        "        aux = self.root\n",
        "        #print(aux.data)\n",
        "        while aux != None and int(aux.data) != int(Find):\n",
        "          if aux.data > Find:\n",
        "              aux = aux.left \n",
        "          else:\n",
        "              aux = aux.right\n",
        "\n",
        "        if aux != None :\n",
        "          return aux\n",
        "        else:\n",
        "          return \"Not find\"\n",
        "\n",
        "    def Find(self, Nodo):\n",
        "        aux = self.root\n",
        "        #print(aux.data)\n",
        "        while aux != None and int(aux.data) != int(Find):\n",
        "          if aux.data > Find:\n",
        "              aux = aux.left \n",
        "          else:\n",
        "              aux = aux.right\n",
        "\n",
        "        if aux != None :\n",
        "          return True\n",
        "        else:\n",
        "          return False\n",
        "\n",
        "    def FindRoot(self, Nodo):\n",
        "      while Nodo.father != None:\n",
        "          Nodo = Nodo.father\n",
        "      return Nodo\n",
        "    \n",
        "    def Delete(self, Nodo):\n",
        "        \n",
        "        if self.Find(Nodo) == True:\n",
        "            #NodoAux = self.root\n",
        "            #NodoPadre = self.root\n",
        "            NodoAux = self.FindNodo(Nodo)\n",
        "            if NodoAux.right != None:\n",
        "              NodoAux.left.father = NodoAux.right\n",
        "              9\n",
        "#            while (Nodo.data != NodoAux.data):\n",
        "#                if Nodo.data > NodoAux.data :\n",
        "#                  NodoAux = NodoAux.right\n",
        "#                else:\n",
        "#                  NodoAux = NodoAux.left\n",
        "        else:\n",
        "            return \"Nodo no encontrado\"\n",
        "\n",
        "        \n",
        "\n",
        "         \n",
        "\n",
        "\n",
        "    def Preorder(self, Nodo):\n",
        "        if Nodo!=None:\n",
        "            print(Nodo)\n",
        "            self.Preorder(Nodo.left)\n",
        "            self.Preorder(Nodo.right)\n",
        "            \n",
        "    def Inorder(self, Nodo):\n",
        "        if Nodo!=None:\n",
        "            self.Inorder(Nodo.left)\n",
        "            print(Nodo)\n",
        "            self.Inorder(Nodo.right)\n",
        "    \n",
        "    def Postorder(self, Nodo):\n",
        "        if Nodo!=None:\n",
        "            self.Postorder(Nodo.left)\n",
        "            self.Postorder(Nodo.right)\n",
        "            print(Nodo)\n",
        "    \n",
        "    def Min(self, Nodo):\n",
        "        while Nodo.left != None:\n",
        "          Nodo = Nodo.left\n",
        "        return Nodo\n",
        "        #if Nodo.left != None:\n",
        "        #  self.min(Nodo.left)\n",
        "        #print(Nodo)\n",
        "\n",
        "    def Max(self, Nodo):\n",
        "        while Nodo.right != None:\n",
        "          Nodo = Nodo.right\n",
        "        return Nodo\n",
        "    \n",
        "    def Successor(self, Nodo):\n",
        "\n",
        "      aux = self.FindNodo(Nodo)\n",
        "\n",
        "      if aux != 'Not find':\n",
        "\n",
        "          if (aux.right != None):\n",
        "            return self.Min(aux.right).data\n",
        "          \n",
        "          while aux.father != None and Nodo > aux.father.data:\n",
        "              #print(aux.data)\n",
        "              if aux.father.left != None: \n",
        "                  if aux.data == aux.father.left.data:\n",
        "                      return aux.father.data\n",
        "                  else:\n",
        "                      aux = aux.father      \n",
        "              else:\n",
        "                  aux = aux.father\n",
        "          \n",
        "          if aux.father != None:\n",
        "              return aux.father.data\n",
        "          else:\n",
        "              print(\"Nodo mas grande seleccionado\")\n",
        "              return aux.data\n",
        "      else:\n",
        "          return \"Not Find Node\"\n",
        "\n",
        "    def Predecessor(self, Nodo):\n",
        "\n",
        "      aux = self.FindNodo(Nodo)\n",
        "\n",
        "      if aux != 'Not find':\n",
        "\n",
        "          if (aux.left != None):\n",
        "            return self.Max(aux.left).data\n",
        "          \n",
        "          while aux.father != None:\n",
        "              #print(aux.data)\n",
        "              if aux.father.right != None: \n",
        "                  if aux.data == aux.father.right.data:\n",
        "                      return aux.father.data\n",
        "                  else:\n",
        "                      aux = aux.father      \n",
        "              else:\n",
        "                  aux = aux.father\n",
        "          \n",
        "          if aux.father != None:\n",
        "              return aux.father.data\n",
        "          else:\n",
        "              print(\"Nodo mas pequeño seleccionado\")\n",
        "              return aux.data\n",
        "      else:\n",
        "          return \"Not Find Node\"\n",
        "    \n",
        "    \"\"\"\n",
        "    def Successor(self, Nodo):\n",
        "        aux = self.FindNodo(Nodo)\n",
        "        #print(\"Nodo\", aux.data)\n",
        "        if aux!= \"Not find\":\n",
        "            while aux.father != None:\n",
        "              if aux.father.data <= Nodo:\n",
        "                  aux = aux.father\n",
        "              else:\n",
        "                return aux.father.data\n",
        "            if aux.right != None:\n",
        "                return aux.right\n",
        "            else:\n",
        "                return aux.data\n",
        "        else:\n",
        "          print(\"Not find nodo\")\n",
        "     \"\"\"    \n",
        "      \n",
        "            \n",
        "    def GetRoot(self):\n",
        "        return self.root"
      ],
      "execution_count": 0,
      "outputs": []
    },
    {
      "cell_type": "code",
      "metadata": {
        "id": "6wu9gqcfVou0",
        "colab_type": "code",
        "colab": {}
      },
      "source": [
        "Tree = aBinary()\n",
        "Nodos = np.random.randint(1,100,10)\n"
      ],
      "execution_count": 0,
      "outputs": []
    },
    {
      "cell_type": "code",
      "metadata": {
        "id": "sTvftrzLVwxJ",
        "colab_type": "code",
        "colab": {}
      },
      "source": [
        "for Nodo in Nodos:\n",
        "    #print(Nodo)\n",
        "    Tree.AddNodo(nodo(Nodo))"
      ],
      "execution_count": 0,
      "outputs": []
    },
    {
      "cell_type": "code",
      "metadata": {
        "id": "6C0YCG2gV5lP",
        "colab_type": "code",
        "outputId": "897d9171-6626-4b63-8ab1-00b3d0dd531f",
        "colab": {
          "base_uri": "https://localhost:8080/",
          "height": 187
        }
      },
      "source": [
        "Tree.Inorder(Tree.GetRoot())"
      ],
      "execution_count": 0,
      "outputs": [
        {
          "output_type": "stream",
          "text": [
            "3\n",
            "16\n",
            "44\n",
            "46\n",
            "56\n",
            "64\n",
            "67\n",
            "71\n",
            "79\n",
            "91\n"
          ],
          "name": "stdout"
        }
      ]
    },
    {
      "cell_type": "code",
      "metadata": {
        "id": "rUOA7j3DgO0h",
        "colab_type": "code",
        "outputId": "c19c1ccc-3e25-4bc5-9b59-a9a3520afd57",
        "colab": {
          "base_uri": "https://localhost:8080/",
          "height": 187
        }
      },
      "source": [
        "Tree.Preorder(Tree.GetRoot())"
      ],
      "execution_count": 0,
      "outputs": [
        {
          "output_type": "stream",
          "text": [
            "71\n",
            "64\n",
            "44\n",
            "16\n",
            "3\n",
            "56\n",
            "46\n",
            "67\n",
            "91\n",
            "79\n"
          ],
          "name": "stdout"
        }
      ]
    },
    {
      "cell_type": "code",
      "metadata": {
        "id": "awSkG_yZ4Aho",
        "colab_type": "code",
        "colab": {}
      },
      "source": [
        ""
      ],
      "execution_count": 0,
      "outputs": []
    },
    {
      "cell_type": "code",
      "metadata": {
        "id": "AjDNDBc9V9XV",
        "colab_type": "code",
        "outputId": "ba04222a-5bc5-4343-9f0c-429ee1be4f37",
        "colab": {
          "base_uri": "https://localhost:8080/",
          "height": 34
        }
      },
      "source": [
        "Tree.Min(Tree.GetRoot()).data"
      ],
      "execution_count": 0,
      "outputs": [
        {
          "output_type": "execute_result",
          "data": {
            "text/plain": [
              "3"
            ]
          },
          "metadata": {
            "tags": []
          },
          "execution_count": 271
        }
      ]
    },
    {
      "cell_type": "code",
      "metadata": {
        "id": "hIQq4z-YWINe",
        "colab_type": "code",
        "outputId": "638fa21d-51e5-4c33-8120-5b5fd6d8b68b",
        "colab": {
          "base_uri": "https://localhost:8080/",
          "height": 34
        }
      },
      "source": [
        "Tree.Max(Tree.GetRoot()).data"
      ],
      "execution_count": 0,
      "outputs": [
        {
          "output_type": "execute_result",
          "data": {
            "text/plain": [
              "91"
            ]
          },
          "metadata": {
            "tags": []
          },
          "execution_count": 272
        }
      ]
    },
    {
      "cell_type": "code",
      "metadata": {
        "id": "iEHDd4XsXL2Q",
        "colab_type": "code",
        "outputId": "94c41d3f-2cbe-4bed-8847-de56cd65e1e2",
        "colab": {
          "base_uri": "https://localhost:8080/",
          "height": 34
        }
      },
      "source": [
        "Tree.FindNodo(64).data"
      ],
      "execution_count": 0,
      "outputs": [
        {
          "output_type": "execute_result",
          "data": {
            "text/plain": [
              "64"
            ]
          },
          "metadata": {
            "tags": []
          },
          "execution_count": 273
        }
      ]
    },
    {
      "cell_type": "code",
      "metadata": {
        "id": "fwpureQ5a58G",
        "colab_type": "code",
        "outputId": "870689a3-9289-4ffc-d71c-75d4f87dddb1",
        "colab": {
          "base_uri": "https://localhost:8080/",
          "height": 34
        }
      },
      "source": [
        "Tree.Successor(32)"
      ],
      "execution_count": 0,
      "outputs": [
        {
          "output_type": "execute_result",
          "data": {
            "text/plain": [
              "'Not Find Node'"
            ]
          },
          "metadata": {
            "tags": []
          },
          "execution_count": 274
        }
      ]
    },
    {
      "cell_type": "code",
      "metadata": {
        "id": "o1V-szaYa62j",
        "colab_type": "code",
        "outputId": "86863b57-08d1-484c-c939-d11036b3691b",
        "colab": {
          "base_uri": "https://localhost:8080/",
          "height": 34
        }
      },
      "source": [
        "Tree.Predecessor(71)"
      ],
      "execution_count": 0,
      "outputs": [
        {
          "output_type": "execute_result",
          "data": {
            "text/plain": [
              "67"
            ]
          },
          "metadata": {
            "tags": []
          },
          "execution_count": 277
        }
      ]
    },
    {
      "cell_type": "code",
      "metadata": {
        "id": "4pgvDgftqQSf",
        "colab_type": "code",
        "outputId": "5119027e-7c6c-4f84-9876-9f01f45c4e5e",
        "colab": {
          "base_uri": "https://localhost:8080/",
          "height": 34
        }
      },
      "source": [
        "Nodos"
      ],
      "execution_count": 0,
      "outputs": [
        {
          "output_type": "execute_result",
          "data": {
            "text/plain": [
              "array([71, 91, 64, 44, 67, 16, 79, 56, 46,  3])"
            ]
          },
          "metadata": {
            "tags": []
          },
          "execution_count": 276
        }
      ]
    },
    {
      "cell_type": "code",
      "metadata": {
        "id": "x3raH3QI0wgz",
        "colab_type": "code",
        "colab": {}
      },
      "source": [
        ""
      ],
      "execution_count": 0,
      "outputs": []
    },
    {
      "cell_type": "code",
      "metadata": {
        "id": "LyDuNhUY2F1w",
        "colab_type": "code",
        "colab": {}
      },
      "source": [
        ""
      ],
      "execution_count": 0,
      "outputs": []
    },
    {
      "cell_type": "markdown",
      "metadata": {
        "id": "queTP_F-Jw9j",
        "colab_type": "text"
      },
      "source": [
        "# Metodo II"
      ]
    },
    {
      "cell_type": "code",
      "metadata": {
        "id": "01v__IGd4OFa",
        "colab_type": "code",
        "colab": {}
      },
      "source": [
        "class nodo:\n",
        "    \"\"\"\n",
        "    Clase Nodo\n",
        "    Guarda los datos que el nodo utilize\n",
        "    \"\"\"\n",
        "\n",
        "    def __init__(self,data, left = None,right = None, father=None):\n",
        "        self.father = father\n",
        "        self.data = data\n",
        "        self.left = left\n",
        "        self.right = right"
      ],
      "execution_count": 0,
      "outputs": []
    },
    {
      "cell_type": "code",
      "metadata": {
        "id": "QDkeIw08J9S6",
        "colab_type": "code",
        "colab": {}
      },
      "source": [
        "class aBinary:\n",
        "\n",
        "    def __init__(self):\n",
        "        self.root = None\n",
        "        \n",
        "    def AddNodo(self, Nodo):\n",
        "        if self.root == None:\n",
        "            self.root = Nodo\n",
        "        else:\n",
        "            aux = self.root\n",
        "            father = None\n",
        "            while aux != None:\n",
        "                padre = aux      \n",
        "                if int(Nodo.data) >= int(aux.data):\n",
        "                    aux = aux.right\n",
        "                else:\n",
        "                    aux = aux.left \n",
        "            \n",
        "            if int(Nodo.data) >= int(padre.data):\n",
        "                Nodo.father = padre\n",
        "                padre.right = Nodo\n",
        "            else:\n",
        "                Nodo.father = padre\n",
        "                padre.left = Nodo\n",
        "\n",
        "    def Find(self, Nodo):\n",
        "        aux = self.root\n",
        "        #print(aux.data)\n",
        "        while aux != None and int(aux.data) != int(Find):\n",
        "          if aux.data > Find:\n",
        "              aux = aux.left \n",
        "          else:\n",
        "              aux = aux.right\n",
        "\n",
        "        if aux != None :\n",
        "          return True\n",
        "        else:\n",
        "          return False\n",
        "\n",
        "    \n",
        "    def RecursionPreorder(self, Nodo, lista=[]):\n",
        "        if Nodo!=None:\n",
        "          lista.append(Nodo.data)\n",
        "          self.RecursionPreorder(Nodo.left, lista)\n",
        "          self.RecursionPreorder(Nodo.right, lista)\n",
        "        return lista\n",
        "\n",
        "    def Preorder(self, Nodo, lista=[]):\n",
        "        lista = []\n",
        "        lista = self.RecursionPreorder(Nodo, lista)\n",
        "        return lista\n",
        "    \n",
        "    def RecursionInorder(self,Nodo,lista=[]):\n",
        "        if Nodo!=None:\n",
        "            self.RecursionInorder(Nodo.left, lista)\n",
        "            lista.append(Nodo.data)\n",
        "            self.RecursionInorder(Nodo.right, lista)\n",
        "        return lista\n",
        "\n",
        "    def Inorder(self, Nodo, lista=[]):\n",
        "        lista = []\n",
        "        lista = self.RecursionInorder(Nodo, lista)\n",
        "        return lista\n",
        "\n",
        "    def RecursionPostorder(self, Nodo, lista=[]):\n",
        "        if Nodo!=None:\n",
        "            self.RecursionPostorder(Nodo.left, lista)\n",
        "            self.RecursionPostorder(Nodo.right, lista)\n",
        "            lista.append(Nodo.data)\n",
        "        return lista\n",
        "\n",
        "    def Postorder(self, Nodo):\n",
        "        lista = []\n",
        "        lista = self.RecursionPostorder(Nodo, lista)\n",
        "        return lista\n",
        "    \n",
        "    def Min(self, Nodo):\n",
        "        #while Nodo.left != None:\n",
        "        #  Nodo = Nodo.left\n",
        "        #return Nodo\n",
        "        lista = self.Inorder(Nodo)\n",
        "        return lista[0]\n",
        "\n",
        "    def Max(self, Nodo):\n",
        "        #while Nodo.right != None:\n",
        "        #  Nodo = Nodo.right\n",
        "        #return Nodo\n",
        "        lista = self.Inorder(Nodo)\n",
        "        return lista[-1]\n",
        "\n",
        "    def Successor(self, Nodo):\n",
        "        lista=self.Inorder(self.GetRoot())\n",
        "        if Nodo in lista:\n",
        "            idx=lista.index(Nodo)\n",
        "            if idx == len(lista)-1:\n",
        "              return str(lista[idx]) + \" es el nodo mas grande\"\n",
        "            else:\n",
        "              return lista[idx]\n",
        "        else:\n",
        "            return \"El nodo no esta en el arbol\"\n",
        "            \n",
        "    def Predecessor(self, Nodo):\n",
        "        lista=self.Inorder(self.GetRoot())\n",
        "        if Nodo in lista:\n",
        "            idx=lista.index(Nodo)\n",
        "            if idx == 0:\n",
        "              return str(lista[idx]) + \" es el nodo mas pequeño\"\n",
        "            else:\n",
        "              return lista[idx-1]\n",
        "        else:\n",
        "            return \"El nodo no esta en el arbol\"\n",
        "\n",
        "    def ReconstructionTree(self, lista):\n",
        "        Tree = aBinary()\n",
        "        for Nodo in lista:\n",
        "            Tree.AddNodo(nodo(Nodo))\n",
        "        self.root = Tree.GetRoot()\n",
        "\n",
        "    def Delete(self, Nodo):\n",
        "        lista = self.Preorder(self.root)\n",
        "        lista.remove(Nodo)\n",
        "        tree = self.ReconstructionTree(lista)\n",
        "        return tree\n",
        "            \n",
        "    def GetRoot(self):\n",
        "        return self.root"
      ],
      "execution_count": 0,
      "outputs": []
    },
    {
      "cell_type": "code",
      "metadata": {
        "id": "J8S8s0hrXiGI",
        "colab_type": "code",
        "colab": {}
      },
      "source": [
        ""
      ],
      "execution_count": 0,
      "outputs": []
    },
    {
      "cell_type": "code",
      "metadata": {
        "id": "tvIPeCyYXqJh",
        "colab_type": "code",
        "colab": {}
      },
      "source": [
        "Tree = aBinary()\n",
        "#Nodos = np.random.randint(1,100,10)\n",
        "for Nodo in Nodos:\n",
        "    #print(Nodo)\n",
        "    Tree.AddNodo(nodo(Nodo))"
      ],
      "execution_count": 0,
      "outputs": []
    },
    {
      "cell_type": "code",
      "metadata": {
        "id": "Izl1DbdJXuMT",
        "colab_type": "code",
        "outputId": "4032576f-bd25-47d7-ae11-2393c0d9a1f8",
        "colab": {
          "base_uri": "https://localhost:8080/",
          "height": 34
        }
      },
      "source": [
        "Tree.Inorder(Tree.GetRoot())"
      ],
      "execution_count": 0,
      "outputs": [
        {
          "output_type": "execute_result",
          "data": {
            "text/plain": [
              "[8, 20, 23, 28, 30, 39, 82, 84, 84, 91]"
            ]
          },
          "metadata": {
            "tags": []
          },
          "execution_count": 247
        }
      ]
    },
    {
      "cell_type": "code",
      "metadata": {
        "id": "SMU5kUNDgoj7",
        "colab_type": "code",
        "outputId": "c941195b-9104-4e45-af7f-ffab423ecf90",
        "colab": {
          "base_uri": "https://localhost:8080/",
          "height": 34
        }
      },
      "source": [
        "Tree.Preorder(Tree.GetRoot())"
      ],
      "execution_count": 0,
      "outputs": [
        {
          "output_type": "execute_result",
          "data": {
            "text/plain": [
              "[82, 39, 30, 20, 8, 28, 23, 84, 84, 91]"
            ]
          },
          "metadata": {
            "tags": []
          },
          "execution_count": 248
        }
      ]
    },
    {
      "cell_type": "code",
      "metadata": {
        "id": "_J5e1-QYguYQ",
        "colab_type": "code",
        "outputId": "079bfc62-6eba-4389-f5b5-8543467ba539",
        "colab": {
          "base_uri": "https://localhost:8080/",
          "height": 34
        }
      },
      "source": [
        "Tree.Postorder(Tree.GetRoot())"
      ],
      "execution_count": 0,
      "outputs": [
        {
          "output_type": "execute_result",
          "data": {
            "text/plain": [
              "[8, 23, 28, 20, 30, 39, 91, 84, 84, 82]"
            ]
          },
          "metadata": {
            "tags": []
          },
          "execution_count": 249
        }
      ]
    },
    {
      "cell_type": "code",
      "metadata": {
        "id": "u-e-XwXFYhZV",
        "colab_type": "code",
        "outputId": "ff88aff4-eb1a-4312-96c2-2eaaf49a7e1e",
        "colab": {
          "base_uri": "https://localhost:8080/",
          "height": 34
        }
      },
      "source": [
        "Tree.Successor(91)"
      ],
      "execution_count": 0,
      "outputs": [
        {
          "output_type": "execute_result",
          "data": {
            "text/plain": [
              "'91 es el nodo mas grande'"
            ]
          },
          "metadata": {
            "tags": []
          },
          "execution_count": 250
        }
      ]
    },
    {
      "cell_type": "code",
      "metadata": {
        "id": "lFGz6SLffTm1",
        "colab_type": "code",
        "outputId": "b4dcefb0-96bf-4cab-9d6e-40370e4d89bc",
        "colab": {
          "base_uri": "https://localhost:8080/",
          "height": 34
        }
      },
      "source": [
        "Tree.Predecessor(84)"
      ],
      "execution_count": 0,
      "outputs": [
        {
          "output_type": "execute_result",
          "data": {
            "text/plain": [
              "82"
            ]
          },
          "metadata": {
            "tags": []
          },
          "execution_count": 251
        }
      ]
    },
    {
      "cell_type": "code",
      "metadata": {
        "id": "EZZhQOmTZAqx",
        "colab_type": "code",
        "outputId": "d4993c02-5a0a-4634-e3d0-598ea6a395c1",
        "colab": {
          "base_uri": "https://localhost:8080/",
          "height": 34
        }
      },
      "source": [
        "lista"
      ],
      "execution_count": 0,
      "outputs": [
        {
          "output_type": "execute_result",
          "data": {
            "text/plain": [
              "[8, 20, 23, 28, 30, 39, 82, 84, 84, 91]"
            ]
          },
          "metadata": {
            "tags": []
          },
          "execution_count": 252
        }
      ]
    },
    {
      "cell_type": "code",
      "metadata": {
        "id": "lXFlZ33Bd4Fu",
        "colab_type": "code",
        "outputId": "c5cf18a7-f0c3-46c5-fe55-003974dc805e",
        "colab": {
          "base_uri": "https://localhost:8080/",
          "height": 34
        }
      },
      "source": [
        "Tree.Max(Tree.GetRoot())"
      ],
      "execution_count": 0,
      "outputs": [
        {
          "output_type": "execute_result",
          "data": {
            "text/plain": [
              "91"
            ]
          },
          "metadata": {
            "tags": []
          },
          "execution_count": 253
        }
      ]
    },
    {
      "cell_type": "code",
      "metadata": {
        "id": "lDCQRwtvjiIH",
        "colab_type": "code",
        "outputId": "7f842664-90cb-4d77-bd86-b1bb5499f1e6",
        "colab": {
          "base_uri": "https://localhost:8080/",
          "height": 34
        }
      },
      "source": [
        "Tree.Min(Tree.GetRoot())"
      ],
      "execution_count": 0,
      "outputs": [
        {
          "output_type": "execute_result",
          "data": {
            "text/plain": [
              "8"
            ]
          },
          "metadata": {
            "tags": []
          },
          "execution_count": 254
        }
      ]
    },
    {
      "cell_type": "code",
      "metadata": {
        "id": "gL4IcBOIjmp7",
        "colab_type": "code",
        "colab": {}
      },
      "source": [
        "Tree.Delete(82)"
      ],
      "execution_count": 0,
      "outputs": []
    },
    {
      "cell_type": "code",
      "metadata": {
        "id": "tWpVVe4Lklz7",
        "colab_type": "code",
        "colab": {}
      },
      "source": [
        ""
      ],
      "execution_count": 0,
      "outputs": []
    },
    {
      "cell_type": "code",
      "metadata": {
        "id": "CU6GR09qkqpf",
        "colab_type": "code",
        "outputId": "57b71bac-a5b3-4782-ec41-b55e8b809e28",
        "colab": {
          "base_uri": "https://localhost:8080/",
          "height": 34
        }
      },
      "source": [
        "Tree.Inorder(Tree.GetRoot())"
      ],
      "execution_count": 0,
      "outputs": [
        {
          "output_type": "execute_result",
          "data": {
            "text/plain": [
              "[8, 20, 23, 28, 30, 39, 84, 84]"
            ]
          },
          "metadata": {
            "tags": []
          },
          "execution_count": 258
        }
      ]
    },
    {
      "cell_type": "code",
      "metadata": {
        "id": "Btw0ITdfkrRh",
        "colab_type": "code",
        "colab": {}
      },
      "source": [
        ""
      ],
      "execution_count": 0,
      "outputs": []
    }
  ]
}